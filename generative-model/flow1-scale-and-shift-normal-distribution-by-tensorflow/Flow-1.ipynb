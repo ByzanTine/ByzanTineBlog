{
 "cells": [
  {
   "cell_type": "markdown",
   "metadata": {},
   "source": [
    "# Scale and Shift of Gaussian Distribution using Tensorflow Bijector"
   ]
  },
  {
   "cell_type": "code",
   "execution_count": 1,
   "metadata": {},
   "outputs": [
    {
     "name": "stdout",
     "output_type": "stream",
     "text": [
      "\n",
      "WARNING: The TensorFlow contrib module will not be included in TensorFlow 2.0.\n",
      "For more information, please see:\n",
      "  * https://github.com/tensorflow/community/blob/master/rfcs/20180907-contrib-sunset.md\n",
      "  * https://github.com/tensorflow/addons\n",
      "If you depend on functionality not listed there, please file an issue.\n",
      "\n"
     ]
    }
   ],
   "source": [
    "import numpy as np\n",
    "import matplotlib.pyplot as plt\n",
    "import tensorflow_probability as tfp\n",
    "import tensorflow as tf\n",
    "tf.enable_eager_execution()\n",
    "\n",
    "tfd = tfp.distributions\n",
    "tfb = tfp.bijectors"
   ]
  },
  {
   "cell_type": "code",
   "execution_count": 2,
   "metadata": {},
   "outputs": [],
   "source": [
    "batch_size=512\n",
    "target_dist = tfd.Normal(loc=5, scale=5)\n",
    "target_samples = target_dist.sample(batch_size)"
   ]
  },
  {
   "cell_type": "code",
   "execution_count": 3,
   "metadata": {},
   "outputs": [
    {
     "data": {
      "image/png": "[encoded data removed]",
      "text/plain": [
       "<Figure size 432x288 with 1 Axes>"
      ]
     },
     "metadata": {
      "needs_background": "light"
     },
     "output_type": "display_data"
    }
   ],
   "source": [
    "def draw_data(data):\n",
    "    plt.hist(data)\n",
    "    plt.title(\"Values\")\n",
    "    plt.xlabel(\"x\")\n",
    "    plt.show()\n",
    "draw_data(target_samples)"
   ]
  },
  {
   "cell_type": "code",
   "execution_count": 4,
   "metadata": {},
   "outputs": [],
   "source": [
    "mu = tf.Variable([1.0])\n",
    "sigma = tf.Variable([1.0])\n",
    "\n",
    "class ScaleAndShift(tfb.Bijector):\n",
    "    def __init__(self, mu=0.0, sigma=0.0, validate_args=False, name=\"exp\"):\n",
    "        super(ScaleAndShift, self).__init__(\n",
    "          validate_args=validate_args,\n",
    "          forward_min_event_ndims=0,\n",
    "          name=name)\n",
    "\n",
    "    def forward(self, x):\n",
    "        # Calling forward\n",
    "        return x * sigma + mu\n",
    "\n",
    "    def _inverse(self, y):\n",
    "        return (y - mu) / sigma\n",
    "\n",
    "    def _inverse_log_det_jacobian(self, y):\n",
    "        return -self._forward_log_det_jacobian(self._inverse(y))\n",
    "\n",
    "    def _forward_log_det_jacobian(self, x):\n",
    "      # Notice that we needn't do any reducing, even when`event_ndims > 0`.\n",
    "      # The base Bijector class will handle reducing for us; it knows how\n",
    "      # to do so because we called `super` `__init__` with\n",
    "      # `forward_min_event_ndims = 0`.\n",
    "        return tf.log(sigma)\n",
    "\n",
    "scale_shift = ScaleAndShift(mu, sigma)"
   ]
  },
  {
   "cell_type": "code",
   "execution_count": 5,
   "metadata": {},
   "outputs": [
    {
     "name": "stdout",
     "output_type": "stream",
     "text": [
      "<tf.Variable 'Variable:0' shape=(1,) dtype=float32, numpy=array([1.], dtype=float32)>\n"
     ]
    }
   ],
   "source": [
    "base_dist = tfd.Normal(loc=0, scale=1)\n",
    "\n",
    "dist = tfd.TransformedDistribution(\n",
    "    distribution=base_dist,\n",
    "    bijector=scale_shift\n",
    ")\n",
    "\n",
    "print (sigma)"
   ]
  },
  {
   "cell_type": "code",
   "execution_count": 6,
   "metadata": {},
   "outputs": [
    {
     "name": "stdout",
     "output_type": "stream",
     "text": [
      "WARNING:tensorflow:From /home/jiayuye/anaconda3/lib/python3.6/site-packages/tensorflow/python/ops/resource_variable_ops.py:642: colocate_with (from tensorflow.python.framework.ops) is deprecated and will be removed in a future version.\n",
      "Instructions for updating:\n",
      "Colocations handled automatically by placer.\n"
     ]
    },
    {
     "data": {
      "image/png": "[encoded data removed]",
      "text/plain": [
       "<Figure size 432x288 with 1 Axes>"
      ]
     },
     "metadata": {
      "needs_background": "light"
     },
     "output_type": "display_data"
    }
   ],
   "source": [
    "samples = dist.sample(1024)\n",
    "draw_data(samples)"
   ]
  },
  {
   "cell_type": "code",
   "execution_count": 9,
   "metadata": {},
   "outputs": [
    {
     "name": "stdout",
     "output_type": "stream",
     "text": [
      "<tf.Variable 'Variable:0' shape=(1,) dtype=float32, numpy=array([4.9208164], dtype=float32)>\n",
      "<tf.Variable 'Variable:0' shape=(1,) dtype=float32, numpy=array([5.0056963], dtype=float32)>\n"
     ]
    }
   ],
   "source": [
    "\n",
    "def loss():\n",
    "    return -tf.reduce_mean(dist.log_prob(target_samples))\n",
    "\n",
    "optimizer = tf.train.AdamOptimizer(learning_rate=0.2)\n",
    "for i in range(1000):\n",
    "    optimizer.minimize(loss, var_list=[mu, sigma])\n",
    "\n",
    "print (mu)\n",
    "print (sigma)"
   ]
  },
  {
   "cell_type": "code",
   "execution_count": 8,
   "metadata": {},
   "outputs": [
    {
     "data": {
      "image/png": "[encoded data removed]",
      "text/plain": [
       "<Figure size 432x288 with 1 Axes>"
      ]
     },
     "metadata": {
      "needs_background": "light"
     },
     "output_type": "display_data"
    }
   ],
   "source": [
    "samples = dist.sample(1024)\n",
    "draw_data(samples)"
   ]
  },
  {
   "cell_type": "code",
   "execution_count": null,
   "metadata": {},
   "outputs": [],
   "source": []
  }
 ],
 "metadata": {
  "kernelspec": {
   "display_name": "Python 3",
   "language": "python",
   "name": "python3"
  },
  "language_info": {
   "codemirror_mode": {
    "name": "ipython",
    "version": 3
   },
   "file_extension": ".py",
   "mimetype": "text/x-python",
   "name": "python",
   "nbconvert_exporter": "python",
   "pygments_lexer": "ipython3",
   "version": "3.6.8"
  }
 },
 "nbformat": 4,
 "nbformat_minor": 2
}
